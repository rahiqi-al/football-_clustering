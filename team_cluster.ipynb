{
 "cells": [
  {
   "cell_type": "code",
   "execution_count": 6,
   "metadata": {},
   "outputs": [],
   "source": [
    "from functions import reterive_clean_data"
   ]
  },
  {
   "cell_type": "code",
   "execution_count": 7,
   "metadata": {},
   "outputs": [
    {
     "name": "stderr",
     "output_type": "stream",
     "text": [
      "/home/ali/Desktop/EuroFootballClustering/functions.py:46: FutureWarning: A value is trying to be set on a copy of a DataFrame or Series through chained assignment using an inplace method.\n",
      "The behavior will change in pandas 3.0. This inplace method will never work because the intermediate object on which we are setting values always behaves as a copy.\n",
      "\n",
      "For example, when doing 'df[col].method(value, inplace=True)', try using 'df.method({col: value}, inplace=True)' or df[col] = df[col].method(value) instead, to perform the operation inplace on the original object.\n",
      "\n",
      "\n",
      "  df_player['potential'].fillna(df_player['potential'].mean(), inplace = True)\n",
      "/home/ali/Desktop/EuroFootballClustering/functions.py:47: FutureWarning: A value is trying to be set on a copy of a DataFrame or Series through chained assignment using an inplace method.\n",
      "The behavior will change in pandas 3.0. This inplace method will never work because the intermediate object on which we are setting values always behaves as a copy.\n",
      "\n",
      "For example, when doing 'df[col].method(value, inplace=True)', try using 'df.method({col: value}, inplace=True)' or df[col] = df[col].method(value) instead, to perform the operation inplace on the original object.\n",
      "\n",
      "\n",
      "  df_player['overall_rating'].fillna(df_player['overall_rating'].mean(), inplace = True)\n"
     ]
    }
   ],
   "source": [
    "df = reterive_clean_data('team')"
   ]
  },
  {
   "cell_type": "code",
   "execution_count": 8,
   "metadata": {},
   "outputs": [],
   "source": [
    "from config.config import config\n",
    "df_new_cluster=df[config.cluster_team]"
   ]
  },
  {
   "cell_type": "code",
   "execution_count": null,
   "metadata": {},
   "outputs": [
    {
     "name": "stdout",
     "output_type": "stream",
     "text": [
      "Model : kmeans, Silhouette Score : 0.12246059604173264, Davies-Bouldin Score: 2.244830949321822\n",
      "Model : DBSCAN, Silhouette Score : -0.37313566408381116, Davies-Bouldin Score: 1.836738197219712\n",
      "Model : Hiérarchique, Silhouette Score : 0.1545371806977636, Davies-Bouldin Score: 1.9874615491956753\n"
     ]
    }
   ],
   "source": [
    "from sklearn.cluster import KMeans, AgglomerativeClustering, DBSCAN\n",
    "from sklearn.metrics import silhouette_score, davies_bouldin_score\n",
    "\n",
    "\n",
    "models={\"kmeans\":KMeans(n_clusters=2,random_state=42),\"DBSCAN\":DBSCAN(min_samples=3,eps=0.4),\"Hiérarchique\":AgglomerativeClustering(n_clusters=2)}\n",
    "\n",
    "for name,model in models.items():\n",
    "    clusters = model.fit_predict(df_new_cluster)\n",
    "    if len(set(clusters))>1:\n",
    "        silhouette = silhouette_score(df_new_cluster,clusters)\n",
    "        db_score = davies_bouldin_score(df_new_cluster,clusters)\n",
    "        print(f\"Model : {name}, Silhouette Score : {silhouette}, Davies-Bouldin Score: {db_score}\")\n",
    "    else:\n",
    "        print(f\"Model: {name} resulted in only one cluster.\")"
   ]
  }
 ],
 "metadata": {
  "kernelspec": {
   "display_name": "ve",
   "language": "python",
   "name": "python3"
  },
  "language_info": {
   "codemirror_mode": {
    "name": "ipython",
    "version": 3
   },
   "file_extension": ".py",
   "mimetype": "text/x-python",
   "name": "python",
   "nbconvert_exporter": "python",
   "pygments_lexer": "ipython3",
   "version": "3.12.3"
  }
 },
 "nbformat": 4,
 "nbformat_minor": 2
}
